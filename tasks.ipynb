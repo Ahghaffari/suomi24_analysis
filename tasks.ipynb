{
 "cells": [
  {
   "cell_type": "code",
   "execution_count": 2,
   "id": "69e069bc",
   "metadata": {},
   "outputs": [],
   "source": [
    "import pandas as pd\n",
    "from nltk.tokenize import word_tokenize\n",
    "\n",
    "# Declare the selected keyword\n",
    "selected_keyword = [\"well-being\"]  # Initial value\n",
    "translations = [\"hyvinvointi\", \"vointi\"]\n",
    "translations = translations + selected_keyword\n",
    "\n",
    "# Load the CSV file into a DataFrame\n",
    "df = pd.read_csv('data/parsed_data_2.csv')\n",
    "\n",
    "# Filter out only threads\n",
    "threads_df = df[df['msg_type'] == 'thread_start']\n",
    "\n",
    "# Function to check if the keyword is in the text\n",
    "def contains_keyword(text):\n",
    "    tokens = word_tokenize(text.lower())  # Convert text to lowercase for case-insensitive matching\n",
    "    return any(translation in tokens for translation in translations)\n",
    "\n",
    "# Filter threads containing the keyword in title or thread_text\n",
    "filtered_threads = threads_df[threads_df['title'].apply(contains_keyword) | threads_df['thread_text'].apply(contains_keyword)]\n",
    "\n",
    "# Save the filtered results to a new CSV file\n",
    "filtered_threads[['title', 'thread_text', 'datetime']].to_csv('data/filtered_threads.csv', index=False)\n"
   ]
  }
 ],
 "metadata": {
  "kernelspec": {
   "display_name": "Python 3 (ipykernel)",
   "language": "python",
   "name": "python3"
  },
  "language_info": {
   "codemirror_mode": {
    "name": "ipython",
    "version": 3
   },
   "file_extension": ".py",
   "mimetype": "text/x-python",
   "name": "python",
   "nbconvert_exporter": "python",
   "pygments_lexer": "ipython3",
   "version": "3.11.5"
  }
 },
 "nbformat": 4,
 "nbformat_minor": 5
}
